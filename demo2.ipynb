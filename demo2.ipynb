{
 "cells": [
  {
   "cell_type": "code",
   "execution_count": null,
   "metadata": {},
   "outputs": [],
   "source": [
    "from func_adl_servicex import ServiceXSourceXAOD\n",
    "\n",
    "dataset_name = \"mc15_13TeV:mc15_13TeV.361106.PowhegPythia8EvtGen_AZNLOCTEQ6L1_Zee.merge.DAOD_STDM3.e3601_s2576_s2132_r6630_r6264_p2363_tid05630052_00\"\n",
    "src = ServiceXSourceXAOD(dataset_name)\n",
    "df = src \\\n",
    "    .SelectMany('lambda e: e.Jets(\"AntiKt4EMTopoJets\")') \\\n",
    "    .Select('lambda j: j.pt()/1000.0') \\\n",
    "    .AsPandasDF('JetPt') \\\n",
    "    .value()\n",
    "print(df)"
   ]
  }
 ],
 "metadata": {
  "language_info": {
   "name": "python"
  },
  "orig_nbformat": 4
 },
 "nbformat": 4,
 "nbformat_minor": 2
}
